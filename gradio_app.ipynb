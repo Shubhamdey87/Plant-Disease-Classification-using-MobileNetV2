{
 "cells": [
  {
   "cell_type": "code",
   "execution_count": 1,
   "id": "6be1f379",
   "metadata": {},
   "outputs": [
    {
     "name": "stdout",
     "output_type": "stream",
     "text": [
      "Requirement already satisfied: transformers in c:\\users\\hp\\anaconda3\\lib\\site-packages (4.31.0)\n",
      "Requirement already satisfied: filelock in c:\\users\\hp\\anaconda3\\lib\\site-packages (from transformers) (3.6.0)\n",
      "Requirement already satisfied: huggingface-hub<1.0,>=0.14.1 in c:\\users\\hp\\anaconda3\\lib\\site-packages (from transformers) (0.16.4)\n",
      "Requirement already satisfied: numpy>=1.17 in c:\\users\\hp\\anaconda3\\lib\\site-packages (from transformers) (1.22.0)\n",
      "Requirement already satisfied: packaging>=20.0 in c:\\users\\hp\\anaconda3\\lib\\site-packages (from transformers) (21.3)\n",
      "Requirement already satisfied: pyyaml>=5.1 in c:\\users\\hp\\anaconda3\\lib\\site-packages (from transformers) (6.0)\n",
      "Requirement already satisfied: regex!=2019.12.17 in c:\\users\\hp\\anaconda3\\lib\\site-packages (from transformers) (2022.3.15)\n",
      "Requirement already satisfied: requests in c:\\users\\hp\\anaconda3\\lib\\site-packages (from transformers) (2.27.1)\n",
      "Requirement already satisfied: tokenizers!=0.11.3,<0.14,>=0.11.1 in c:\\users\\hp\\anaconda3\\lib\\site-packages (from transformers) (0.13.3)\n",
      "Requirement already satisfied: safetensors>=0.3.1 in c:\\users\\hp\\anaconda3\\lib\\site-packages (from transformers) (0.3.2)\n",
      "Requirement already satisfied: tqdm>=4.27 in c:\\users\\hp\\anaconda3\\lib\\site-packages (from transformers) (4.64.0)\n",
      "Requirement already satisfied: fsspec in c:\\users\\hp\\anaconda3\\lib\\site-packages (from huggingface-hub<1.0,>=0.14.1->transformers) (2023.6.0)\n",
      "Requirement already satisfied: typing-extensions>=3.7.4.3 in c:\\users\\hp\\anaconda3\\lib\\site-packages (from huggingface-hub<1.0,>=0.14.1->transformers) (4.7.1)\n",
      "Requirement already satisfied: pyparsing!=3.0.5,>=2.0.2 in c:\\users\\hp\\anaconda3\\lib\\site-packages (from packaging>=20.0->transformers) (3.0.4)\n",
      "Requirement already satisfied: colorama in c:\\users\\hp\\anaconda3\\lib\\site-packages (from tqdm>=4.27->transformers) (0.4.4)\n",
      "Requirement already satisfied: urllib3<1.27,>=1.21.1 in c:\\users\\hp\\anaconda3\\lib\\site-packages (from requests->transformers) (1.26.9)\n",
      "Requirement already satisfied: certifi>=2017.4.17 in c:\\users\\hp\\anaconda3\\lib\\site-packages (from requests->transformers) (2021.10.8)\n",
      "Requirement already satisfied: charset-normalizer~=2.0.0 in c:\\users\\hp\\anaconda3\\lib\\site-packages (from requests->transformers) (2.0.4)\n",
      "Requirement already satisfied: idna<4,>=2.5 in c:\\users\\hp\\anaconda3\\lib\\site-packages (from requests->transformers) (3.3)\n"
     ]
    }
   ],
   "source": [
    "!pip install transformers\n",
    "import tensorflow as tf"
   ]
  },
  {
   "cell_type": "code",
   "execution_count": 2,
   "id": "cd4b84d1",
   "metadata": {},
   "outputs": [],
   "source": [
    "class_names = [\n",
    "    \"Peach_healthy\",\n",
    "    \"Strawberry_leaf_scorch\",\n",
    "    \"Grape_black_measles\",\n",
    "    \"Tomato_septoria_leaf_spot\",\n",
    "    \"Grape_healthy\",\n",
    "    \"Tomato_healthy\",\n",
    "    \"Peach_bacterial_spot\",\n",
    "    \"Corn_gray_leaf_spot\",\n",
    "    \"Soybean_healthy\",\n",
    "    \"Corn_common_rust\",\n",
    "    \"Blueberry_healthy\",\n",
    "    \"Corn_healthy\",\n",
    "    \"Apple_healthy\",\n",
    "    \"Apple_cedar_apple_rust\",\n",
    "    \"Background_without_leaves\",\n",
    "    \"Tomato_target_spot\",\n",
    "    \"Pepper_healthy\",\n",
    "    \"Grape_black_rot\",\n",
    "    \"Apple_scab\",\n",
    "    \"Raspberry_healthy\",\n",
    "    \"Tomato_early_blight\",\n",
    "    \"Tomato_yellow_leaf_curl_virus\",\n",
    "    \"Corn_northern_leaf_blight\",\n",
    "    \"Potato_healthy\",\n",
    "    \"Tomato_late_blight\",\n",
    "    \"Cherry_powdery_mildew\",\n",
    "    \"Grape_leaf_blight\",\n",
    "    \"Tomato_leaf_mold\",\n",
    "    \"Pepper_bacterial_spot\",\n",
    "    \"Potato_late_blight\",\n",
    "    \"Tomato_mosaic_virus\",\n",
    "    \"Potato_early_blight\",\n",
    "    \"Tomato_bacterial_spot\",\n",
    "    \"Strawberry_healthy\",\n",
    "    \"Cherry_healthy\",\n",
    "    \"Squash_powdery_mildew\",\n",
    "    \"Tomato_spider_mites_two-spotted_spider_mite\",\n",
    "    \"Orange_haunglongbing\",\n",
    "    \"Apple_black_rot\"\n",
    "]"
   ]
  },
  {
   "cell_type": "code",
   "execution_count": 7,
   "id": "3abbae60",
   "metadata": {},
   "outputs": [
    {
     "name": "stdout",
     "output_type": "stream",
     "text": [
      "Running on local URL:  http://127.0.0.1:7864\n",
      "\n",
      "Could not create share link. Please check your internet connection or our status page: https://status.gradio.app.\n"
     ]
    },
    {
     "data": {
      "text/html": [
       "<div><iframe src=\"http://127.0.0.1:7864/\" width=\"100%\" height=\"500\" allow=\"autoplay; camera; microphone; clipboard-read; clipboard-write;\" frameborder=\"0\" allowfullscreen></iframe></div>"
      ],
      "text/plain": [
       "<IPython.core.display.HTML object>"
      ]
     },
     "metadata": {},
     "output_type": "display_data"
    },
    {
     "data": {
      "text/plain": []
     },
     "execution_count": 7,
     "metadata": {},
     "output_type": "execute_result"
    }
   ],
   "source": [
    "import gradio as gr\n",
    "import tensorflow as tf\n",
    "import numpy as np\n",
    "\n",
    "# Assuming the model is saved as 'model', let's load it:\n",
    "my_model = tf.keras.models.load_model('my_model.keras')\n",
    "\n",
    "def classify_image(image):\n",
    "    # Resize and preprocess the image similar to how you preprocessed your training data\n",
    "    image = tf.image.resize(image, (64, 64))\n",
    "    image = np.array(image) / 255.0\n",
    "    image = np.expand_dims(image, axis=0)  # Expand dimensions to represent a single batch\n",
    "\n",
    "    # Get model predictions\n",
    "    predictions = my_model.predict(image)\n",
    "    predicted_class = np.argmax(predictions, axis=1)[0]\n",
    "\n",
    "    # Return the class (you might want to convert this to a human-readable label)\n",
    "    return class_names[predicted_class]\n",
    "\n",
    "# Define Gradio interface\n",
    "interface = gr.Interface(\n",
    "    fn=classify_image,  # the function to use\n",
    "    inputs=gr.Image(shape=(64, 64), type=\"numpy\"),  # input type\n",
    "    outputs=\"text\"  # output type\n",
    ")\n",
    "\n",
    "interface.launch(share=True)\n"
   ]
  },
  {
   "cell_type": "code",
   "execution_count": null,
   "id": "732e7b8b",
   "metadata": {},
   "outputs": [],
   "source": []
  }
 ],
 "metadata": {
  "kernelspec": {
   "display_name": "Python 3 (ipykernel)",
   "language": "python",
   "name": "python3"
  },
  "language_info": {
   "codemirror_mode": {
    "name": "ipython",
    "version": 3
   },
   "file_extension": ".py",
   "mimetype": "text/x-python",
   "name": "python",
   "nbconvert_exporter": "python",
   "pygments_lexer": "ipython3",
   "version": "3.9.12"
  }
 },
 "nbformat": 4,
 "nbformat_minor": 5
}
